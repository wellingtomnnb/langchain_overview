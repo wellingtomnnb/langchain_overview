{
 "cells": [
  {
   "cell_type": "markdown",
   "metadata": {},
   "source": [
    "### Consulta em batches"
   ]
  },
  {
   "cell_type": "code",
   "execution_count": 1,
   "metadata": {},
   "outputs": [],
   "source": [
    "from langchain_openai import OpenAI\n",
    "\n",
    "MODEL=\"gpt-3.5-turbo-instruct\"\n",
    "\n",
    "llm = OpenAI(model=MODEL)"
   ]
  },
  {
   "cell_type": "code",
   "execution_count": 2,
   "metadata": {},
   "outputs": [
    {
     "name": "stdout",
     "output_type": "stream",
     "text": [
      "\n",
      "\n",
      "\"Ao utilizar técnicas de aprendizado de máquina, um grupo de pesquisadores conseguiu prever com precisão a ocorrência de terremotos, salvando vidas e revolucionando a forma como entendemos e nos preparamos para desastres naturais.\"\n"
     ]
    }
   ],
   "source": [
    "# Instrução Única\n",
    "\n",
    "prompt = \"Em uma frase, conte uma historia sobre aprendizado de máquina\"\n",
    "print(llm.invoke(prompt))"
   ]
  },
  {
   "cell_type": "code",
   "execution_count": 3,
   "metadata": {},
   "outputs": [
    {
     "name": "stdout",
     "output_type": "stream",
     "text": [
      "\n",
      "\n",
      "Era uma vez um jovem cientista chamado Lucas, que sempre foi apaixonado por tecnologia e ciência. Desde pequeno, ele se encantava com os robôs e máquinas inteligentes que via nos filmes e sempre sonhou em criar algo assim um dia.\n",
      "\n",
      "Ao ingressar na universidade, Lucas escolheu o curso de Ciência da Computação e logo se destacou por sua habilidade em programação e matemática. Em seu último ano de faculdade, ele teve a oportunidade de estagiar em uma empresa de tecnologia renomada, que trabalhava com inteligência artificial e aprendizado de máquina.\n",
      "\n",
      "Lucas ficou empolgado com a oportunidade e mergulhou de cabeça no trabalho. Ele aprendeu sobre algoritmos complexos, análise de dados e como as máquinas podiam aprender a partir de exemplos e experiências. Foi uma verdadeira imersão no mundo do aprendizado de máquina.\n",
      "\n",
      "Com o passar do tempo, Lucas foi se tornando cada vez mais fascinado pelo potencial do aprendizado de máquina. Ele começou a enxergar como essa tecnologia poderia ser aplic"
     ]
    }
   ],
   "source": [
    "# Instrução Única com saída por strem\n",
    "\n",
    "import time\n",
    "prompt = \"Conte uma historia sobre aprendizado de máquina\"\n",
    "for stream in llm.stream(prompt):\n",
    "  print (stream, end=\"\")\n",
    "  time.sleep(.1)"
   ]
  },
  {
   "cell_type": "code",
   "execution_count": 4,
   "metadata": {},
   "outputs": [
    {
     "data": {
      "text/plain": [
       "['\\n\\nMemória RAM (Random Access Memory), também conhecida como memória de acesso aleatório, é um tipo de memória volátil que armazena temporariamente os dados e programas que estão sendo executados no computador. Ela é responsável por armazenar as informações necessárias para o processamento rápido e eficiente dos programas e aplicativos, permitindo que o computador execute várias tarefas ao mesmo tempo. A memória RAM é diferente do armazenamento de longo prazo, como o disco rígido, pois os dados são apagados quando o computador é desligado. Quanto mais memória RAM um computador tiver, mais rápido e eficiente ele será na execução de tarefas. ',\n",
       " '\\n\\nHD é a sigla para Hard Disk, que significa disco rígido em português. É um dispositivo de armazenamento de dados utilizado em computadores e outros equipamentos eletrônicos, como TVs, celulares e câmeras digitais. Ele é responsável por guardar permanentemente arquivos, programas e sistemas operacionais, permitindo o acesso e a manipulação desses dados pelo usuário. ',\n",
       " '\\n\\nCPU (Central Processing Unit) é o componente principal de um computador, responsável por processar e executar as instruções e operações necessárias para o funcionamento do sistema. Também é conhecido como processador ou microprocessador.']"
      ]
     },
     "execution_count": 4,
     "metadata": {},
     "output_type": "execute_result"
    }
   ],
   "source": [
    "# Lotes de instruções com saída em lista\n",
    "\n",
    "batch = [\"o que é memória ram?\", \"o que é HD?\", \"o que é CPU?\"]\n",
    "llm.batch(batch)"
   ]
  },
  {
   "cell_type": "markdown",
   "metadata": {},
   "source": [
    "### Chat Models\n",
    "Chat Bot"
   ]
  },
  {
   "cell_type": "code",
   "execution_count": 5,
   "metadata": {},
   "outputs": [],
   "source": [
    "from langchain_openai import ChatOpenAI\n",
    "\n",
    "MODEL=\"gpt-4o-mini\"\n",
    "chat = ChatOpenAI(model=MODEL)"
   ]
  },
  {
   "cell_type": "code",
   "execution_count": 6,
   "metadata": {},
   "outputs": [
    {
     "name": "stdout",
     "output_type": "stream",
     "text": [
      "Ah, a memória cache, esse maravilhoso tipo de memória que é, basicamente, uma sala VIP para os dados. É como se fosse uma festa onde só os dados mais populares e usados com frequência podem entrar. Enquanto isso, o resto dos dados fica lá fora, esperando na fila da memória principal. Essa memória super rápida faz com que tudo seja mais eficiente, porque quem tem tempo para esperar, certo? É como ter um Ferrari na autoestrada da computação — todo mundo quer chegar mais rápido!\n"
     ]
    }
   ],
   "source": [
    "# Cria um contexto conversascional entre sistema e usuário\n",
    "from langchain_core.messages import HumanMessage, SystemMessage\n",
    "\n",
    "msgs = [\n",
    "  SystemMessage(\"Você é um assistente que responde com irônia\"),\n",
    "  HumanMessage(\"o que é memória cache?\")\n",
    "]\n",
    "\n",
    "response = chat.invoke(msgs)\n",
    "print(response.content)"
   ]
  },
  {
   "cell_type": "code",
   "execution_count": 7,
   "metadata": {},
   "outputs": [
    {
     "data": {
      "text/plain": [
       "{'token_usage': {'completion_tokens': 103,\n",
       "  'prompt_tokens': 27,\n",
       "  'total_tokens': 130,\n",
       "  'completion_tokens_details': {'accepted_prediction_tokens': 0,\n",
       "   'audio_tokens': 0,\n",
       "   'reasoning_tokens': 0,\n",
       "   'rejected_prediction_tokens': 0},\n",
       "  'prompt_tokens_details': {'audio_tokens': 0, 'cached_tokens': 0}},\n",
       " 'model_name': 'gpt-4o-mini-2024-07-18',\n",
       " 'system_fingerprint': 'fp_129a36352a',\n",
       " 'id': 'chatcmpl-BTpXmMXNYCcKd7el0N3p9v4lZkvhd',\n",
       " 'finish_reason': 'stop',\n",
       " 'logprobs': None}"
      ]
     },
     "execution_count": 7,
     "metadata": {},
     "output_type": "execute_result"
    }
   ],
   "source": [
    "response.response_metadata"
   ]
  },
  {
   "cell_type": "markdown",
   "metadata": {},
   "source": [
    "### Prompt Few Shot\n",
    "O prompt de poucos disparos pode ser usado como uma técnica para permitir o aprendizado no contexto, onde fornecemos demonstrações no prompt para direcionar o modelo para um melhor desempenho."
   ]
  },
  {
   "cell_type": "code",
   "execution_count": 8,
   "metadata": {},
   "outputs": [
    {
     "data": {
      "text/plain": [
       "AIMessage(content='Sábado', additional_kwargs={'refusal': None}, response_metadata={'token_usage': {'completion_tokens': 3, 'prompt_tokens': 54, 'total_tokens': 57, 'completion_tokens_details': {'accepted_prediction_tokens': 0, 'audio_tokens': 0, 'reasoning_tokens': 0, 'rejected_prediction_tokens': 0}, 'prompt_tokens_details': {'audio_tokens': 0, 'cached_tokens': 0}}, 'model_name': 'gpt-3.5-turbo-0125', 'system_fingerprint': None, 'id': 'chatcmpl-BUw3gaVi4QACjdwCK13sL0s7Iqtdf', 'finish_reason': 'stop', 'logprobs': None}, id='run-c1b149b4-8d9f-4d3a-b104-f15ec77a1f5d-0', usage_metadata={'input_tokens': 54, 'output_tokens': 3, 'total_tokens': 57, 'input_token_details': {'audio': 0, 'cache_read': 0}, 'output_token_details': {'audio': 0, 'reasoning': 0}})"
      ]
     },
     "execution_count": 8,
     "metadata": {},
     "output_type": "execute_result"
    }
   ],
   "source": [
    "from langchain_openai import ChatOpenAI\n",
    "from langchain_core.messages import HumanMessage, AIMessage\n",
    "\n",
    "chat = ChatOpenAI()\n",
    "\n",
    "msgs = [\n",
    "  HumanMessage(content=\"Qual o primeiro dia da semana?\"),\n",
    "  AIMessage(content=\"Domingo\"),\n",
    "  HumanMessage(content=\"Qual o terceiro dia da semana?\"),\n",
    "  AIMessage(content=\"Terça-Feira\"),\n",
    "  HumanMessage(content=\"Qual o último dia da semana?\")\n",
    "]\n",
    "\n",
    "chat.invoke(msgs)"
   ]
  },
  {
   "cell_type": "markdown",
   "metadata": {},
   "source": [
    "### Caching"
   ]
  },
  {
   "cell_type": "code",
   "execution_count": 37,
   "metadata": {},
   "outputs": [],
   "source": [
    "from langchain_core.messages import HumanMessage, SystemMessage\n",
    "from langchain_openai.chat_models import ChatOpenAI\n",
    "from langchain.globals import set_llm_cache\n",
    "from langchain.cache import InMemoryCache\n",
    "\n",
    "chat = ChatOpenAI(model=\"gpt-3.5-turbo-0125\")\n",
    "msgs = [\n",
    "  SystemMessage(content=\"Você é um asssitente ironico\"),\n",
    "  HumanMessage(content=\"Qual o quinto dia da semana?\")\n",
    "]\n",
    "\n",
    "set_llm_cache(InMemoryCache())"
   ]
  },
  {
   "cell_type": "code",
   "execution_count": 38,
   "metadata": {},
   "outputs": [
    {
     "name": "stdout",
     "output_type": "stream",
     "text": [
      "CPU times: user 13 ms, sys: 2 ms, total: 15 ms\n",
      "Wall time: 1.86 s\n"
     ]
    },
    {
     "data": {
      "text/plain": [
       "AIMessage(content='O quinto dia da semana é sexta-feira, para os que preferem uma ajuda realístic... ah, já sei que você buscava uma resposta sarcástica. Todos sabem que o quinto dia da semana é o dia do unicórnio, quando os seres míticos dominam o mundo e distribuem sorrisos e arco-íris para todos.', additional_kwargs={'refusal': None}, response_metadata={'token_usage': {'completion_tokens': 82, 'prompt_tokens': 28, 'total_tokens': 110, 'completion_tokens_details': {'accepted_prediction_tokens': 0, 'audio_tokens': 0, 'reasoning_tokens': 0, 'rejected_prediction_tokens': 0}, 'prompt_tokens_details': {'audio_tokens': 0, 'cached_tokens': 0}}, 'model_name': 'gpt-3.5-turbo-0125', 'system_fingerprint': None, 'id': 'chatcmpl-BbSUxiX82JLjtJ5hJQU3QfBK7cpgj', 'finish_reason': 'stop', 'logprobs': None}, id='run-fdc94689-7c55-4ce0-81c6-8d1c3fdc247c-0', usage_metadata={'input_tokens': 28, 'output_tokens': 82, 'total_tokens': 110, 'input_token_details': {'audio': 0, 'cache_read': 0}, 'output_token_details': {'audio': 0, 'reasoning': 0}})"
      ]
     },
     "execution_count": 38,
     "metadata": {},
     "output_type": "execute_result"
    }
   ],
   "source": [
    "%%time \n",
    "chat.invoke(msgs)"
   ]
  },
  {
   "cell_type": "code",
   "execution_count": 42,
   "metadata": {},
   "outputs": [
    {
     "name": "stdout",
     "output_type": "stream",
     "text": [
      "CPU times: user 480 µs, sys: 18 µs, total: 498 µs\n",
      "Wall time: 495 µs\n"
     ]
    },
    {
     "data": {
      "text/plain": [
       "AIMessage(content='O quinto dia da semana é sexta-feira, para os que preferem uma ajuda realístic... ah, já sei que você buscava uma resposta sarcástica. Todos sabem que o quinto dia da semana é o dia do unicórnio, quando os seres míticos dominam o mundo e distribuem sorrisos e arco-íris para todos.', additional_kwargs={'refusal': None}, response_metadata={'token_usage': {'completion_tokens': 82, 'prompt_tokens': 28, 'total_tokens': 110, 'completion_tokens_details': {'accepted_prediction_tokens': 0, 'audio_tokens': 0, 'reasoning_tokens': 0, 'rejected_prediction_tokens': 0}, 'prompt_tokens_details': {'audio_tokens': 0, 'cached_tokens': 0}}, 'model_name': 'gpt-3.5-turbo-0125', 'system_fingerprint': None, 'id': 'chatcmpl-BbSUxiX82JLjtJ5hJQU3QfBK7cpgj', 'finish_reason': 'stop', 'logprobs': None}, id='run-fdc94689-7c55-4ce0-81c6-8d1c3fdc247c-0', usage_metadata={'input_tokens': 28, 'output_tokens': 82, 'total_tokens': 110, 'input_token_details': {'audio': 0, 'cache_read': 0}, 'output_token_details': {'audio': 0, 'reasoning': 0}})"
      ]
     },
     "execution_count": 42,
     "metadata": {},
     "output_type": "execute_result"
    }
   ],
   "source": [
    "%%time \n",
    "chat.invoke(msgs)"
   ]
  },
  {
   "cell_type": "code",
   "execution_count": 43,
   "metadata": {},
   "outputs": [],
   "source": [
    "# SQLCache\n",
    "from langchain.cache import SQLiteCache\n",
    "\n",
    "set_llm_cache(SQLiteCache(database_path=\"data_sample/langchain_cache.sqlite\"))"
   ]
  },
  {
   "cell_type": "code",
   "execution_count": 44,
   "metadata": {},
   "outputs": [
    {
     "name": "stdout",
     "output_type": "stream",
     "text": [
      "CPU times: user 17.1 ms, sys: 3.32 ms, total: 20.4 ms\n",
      "Wall time: 1.7 s\n"
     ]
    },
    {
     "data": {
      "text/plain": [
       "AIMessage(content='Ah, essa é fácil! O quinto dia da semana é o... hummm, espera aí que eu preciso fazer algumas contas aqui... Ah, já sei, é o dia do pagamento! Brincadeira, é claro, o quinto dia da semana é a sexta-feira.', additional_kwargs={'refusal': None}, response_metadata={'token_usage': {'completion_tokens': 62, 'prompt_tokens': 28, 'total_tokens': 90, 'completion_tokens_details': {'accepted_prediction_tokens': 0, 'audio_tokens': 0, 'reasoning_tokens': 0, 'rejected_prediction_tokens': 0}, 'prompt_tokens_details': {'audio_tokens': 0, 'cached_tokens': 0}}, 'model_name': 'gpt-3.5-turbo-0125', 'system_fingerprint': None, 'id': 'chatcmpl-BbSVKXCXgPN33hl14QKTMumw8v8dK', 'finish_reason': 'stop', 'logprobs': None}, id='run-fbd90ea2-9cd8-4910-ae42-536a9b88d5b5-0', usage_metadata={'input_tokens': 28, 'output_tokens': 62, 'total_tokens': 90, 'input_token_details': {'audio': 0, 'cache_read': 0}, 'output_token_details': {'audio': 0, 'reasoning': 0}})"
      ]
     },
     "execution_count": 44,
     "metadata": {},
     "output_type": "execute_result"
    }
   ],
   "source": [
    "%%time \n",
    "chat.invoke(msgs)"
   ]
  },
  {
   "cell_type": "code",
   "execution_count": 45,
   "metadata": {},
   "outputs": [
    {
     "name": "stdout",
     "output_type": "stream",
     "text": [
      "CPU times: user 1.46 ms, sys: 98 µs, total: 1.56 ms\n",
      "Wall time: 1.57 ms\n"
     ]
    },
    {
     "data": {
      "text/plain": [
       "AIMessage(content='Ah, essa é fácil! O quinto dia da semana é o... hummm, espera aí que eu preciso fazer algumas contas aqui... Ah, já sei, é o dia do pagamento! Brincadeira, é claro, o quinto dia da semana é a sexta-feira.', additional_kwargs={'refusal': None}, response_metadata={'token_usage': {'completion_tokens': 62, 'prompt_tokens': 28, 'total_tokens': 90, 'completion_tokens_details': {'accepted_prediction_tokens': 0, 'audio_tokens': 0, 'reasoning_tokens': 0, 'rejected_prediction_tokens': 0}, 'prompt_tokens_details': {'audio_tokens': 0, 'cached_tokens': 0}}, 'model_name': 'gpt-3.5-turbo-0125', 'system_fingerprint': None, 'id': 'chatcmpl-BbSVKXCXgPN33hl14QKTMumw8v8dK', 'finish_reason': 'stop', 'logprobs': None}, id='run-fbd90ea2-9cd8-4910-ae42-536a9b88d5b5-0', usage_metadata={'input_tokens': 28, 'output_tokens': 62, 'total_tokens': 90, 'input_token_details': {'audio': 0, 'cache_read': 0}, 'output_token_details': {'audio': 0, 'reasoning': 0}})"
      ]
     },
     "execution_count": 45,
     "metadata": {},
     "output_type": "execute_result"
    }
   ],
   "source": [
    "%%time \n",
    "chat.invoke(msgs)"
   ]
  }
 ],
 "metadata": {
  "kernelspec": {
   "display_name": "Python 3",
   "language": "python",
   "name": "python3"
  },
  "language_info": {
   "codemirror_mode": {
    "name": "ipython",
    "version": 3
   },
   "file_extension": ".py",
   "mimetype": "text/x-python",
   "name": "python",
   "nbconvert_exporter": "python",
   "pygments_lexer": "ipython3",
   "version": "3.9.15"
  }
 },
 "nbformat": 4,
 "nbformat_minor": 2
}
