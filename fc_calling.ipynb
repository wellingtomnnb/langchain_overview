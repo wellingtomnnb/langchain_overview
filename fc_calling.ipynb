{
 "cells": [
  {
   "cell_type": "code",
   "execution_count": 6,
   "metadata": {},
   "outputs": [
    {
     "data": {
      "text/plain": [
       "ChatCompletionMessage(content='Boa madrugada!', refusal=None, role='assistant', audio=None, function_call=None, tool_calls=None)"
      ]
     },
     "execution_count": 6,
     "metadata": {},
     "output_type": "execute_result"
    }
   ],
   "source": [
    "import json\n",
    "\n",
    "import openai\n",
    "\n",
    "client = openai.Client()\n",
    "\n",
    "def saudacao_por_periodo(hora):\n",
    "  if 5 <= hora < 12: return json.dumps({\"saudacao\": \"Bom dia!\"})\n",
    "  elif 12 <= hora < 18: return json.dumps({\"saudacao\": \"Bom dia!\"})\n",
    "  elif 18 <= hora < 23: return json.dumps({\"saudacao\": \"Boa noite!\"})\n",
    "  else: return json.dumps({\"saudacao\": \"Boa madrugada!\"})\n",
    "\n",
    "tools = [{\n",
    "  \"type\": \"function\",\n",
    "  \"function\":{\n",
    "    \"name\": \"saudacao_por_periodo\",\n",
    "    \"parameters\": {\n",
    "      \"type\": \"object\",\n",
    "      \"properties\": {\n",
    "        \"hora\": {\"type\": \"integer\", \"description\": \"A hora do dia em formato 24h\"}\n",
    "      },\n",
    "      \"required\": [\"hora\"]\n",
    "    }\n",
    "  }\n",
    "}]\n",
    "\n",
    "funcao_disponivel = {\n",
    "  \"saudacao_por_periodo\": saudacao_por_periodo\n",
    "}\n",
    "\n",
    "mensagens = [{\"role\": \"user\", \"content\": \"Qual saudação o modelo me dá se for 23h?\"}]\n",
    "\n",
    "resposta = client.chat.completions.create(model=\"gpt-3.5-turbo-0125\", messages=mensagens, tools=tools, tool_choice=\"auto\")\n",
    "\n",
    "msg_resp = resposta.choices[0].message\n",
    "tool_calls = msg_resp.tool_calls\n",
    "if tool_calls:\n",
    "  mensagens.append(msg_resp)\n",
    "  for tool_call in tool_calls:\n",
    "    function_name = tool_call.function.name\n",
    "    function_to_call = funcao_disponivel[function_name]\n",
    "    function_args = json.loads(tool_call.function.arguments)\n",
    "    function_response = function_to_call(hora=function_args.get(\"hora\"))\n",
    "\n",
    "    mensagens.append({\n",
    "      \"tool_call_id\": tool_call.id,\n",
    "      \"role\": \"tool\",\n",
    "      \"name\": function_name,\n",
    "      \"content\": function_response\n",
    "\n",
    "    })\n",
    "\n",
    "  segunda_resposta = client.chat.completions.create(model=\"gpt-3.5-turbo-0125\", messages=mensagens)\n",
    "\n",
    "segunda_resposta.choices[0].message"
   ]
  },
  {
   "cell_type": "code",
   "execution_count": 7,
   "metadata": {},
   "outputs": [
    {
     "data": {
      "text/plain": [
       "ChatCompletionMessage(content=None, refusal=None, role='assistant', audio=None, function_call=None, tool_calls=[ChatCompletionMessageToolCall(id='call_HJdCmXHjmk0RrlWHThzCeDeW', function=Function(arguments='{\"hora\":23}', name='saudacao_por_periodo'), type='function')])"
      ]
     },
     "execution_count": 7,
     "metadata": {},
     "output_type": "execute_result"
    }
   ],
   "source": [
    "msg_resp"
   ]
  }
 ],
 "metadata": {
  "kernelspec": {
   "display_name": ".venv",
   "language": "python",
   "name": "python3"
  },
  "language_info": {
   "codemirror_mode": {
    "name": "ipython",
    "version": 3
   },
   "file_extension": ".py",
   "mimetype": "text/x-python",
   "name": "python",
   "nbconvert_exporter": "python",
   "pygments_lexer": "ipython3",
   "version": "3.9.15"
  }
 },
 "nbformat": 4,
 "nbformat_minor": 2
}
